{
 "cells": [
  {
   "cell_type": "code",
   "execution_count": null,
   "metadata": {},
   "outputs": [],
   "source": [
    "# currently required as a workaround to https://github.com/brightway-lca/brightway-live/issues/10\n",
    "import os\n",
    "os.environ[\"BRIGHTWAY_DIR\"] = \"/tmp/\""
   ]
  },
  {
   "cell_type": "code",
   "execution_count": null,
   "metadata": {},
   "outputs": [],
   "source": [
    "import bw2data as bd\n",
    "import bw2io as bi\n",
    "import peewee"
   ]
  },
  {
   "cell_type": "code",
   "execution_count": null,
   "metadata": {},
   "outputs": [],
   "source": [
    "# seems to throw an error currently (version (0, 9, 'DEV26')), but correctly imports the database \n",
    "bi.add_example_database(searchable=True, overwrite=True)"
   ]
  },
  {
   "cell_type": "code",
   "execution_count": null,
   "metadata": {},
   "outputs": [],
   "source": [
    "db = bd.Database(\"Mobility example\")"
   ]
  },
  {
   "cell_type": "code",
   "execution_count": null,
   "metadata": {},
   "outputs": [],
   "source": [
    "# actually select the peewee sqlite3 database, which is hidden behind layers of Brightway class inheritance\n",
    "from bw2data.backends import sqlite3_lci_db\n",
    "sqldb: peewee.SqliteDatabase = sqlite3_lci_db.db\n",
    "cursor = sqldb.cursor()"
   ]
  },
  {
   "cell_type": "code",
   "execution_count": null,
   "metadata": {},
   "outputs": [],
   "source": [
    "# list all tables of the database\n",
    "# https://stackoverflow.com/a/10746045\n",
    "cursor.execute(\"SELECT name FROM sqlite_master WHERE type='table';\")\n",
    "print(cursor.fetchall())"
   ]
  },
  {
   "cell_type": "code",
   "execution_count": null,
   "metadata": {},
   "outputs": [],
   "source": [
    "# list all columns of a database table\n",
    "cursor.execute(\"PRAGMA table_info('activitydataset')\")\n",
    "columns = [column[1] for column in cursor.fetchall()]\n",
    "print(columns)"
   ]
  },
  {
   "cell_type": "code",
   "execution_count": null,
   "metadata": {},
   "outputs": [],
   "source": [
    "rand = cursor.execute(\"SELECT * FROM activitydataset ORDER BY RANDOM() LIMIT 1\").fetchone()\n",
    "rand"
   ]
  },
  {
   "cell_type": "code",
   "execution_count": null,
   "metadata": {},
   "outputs": [],
   "source": [
    "# add an fts5 search table\n",
    "# https://saraswatmks.github.io/2020/04/sqlite-fts-search-queries.html\n",
    "cursor.execute(\n",
    "    \"\"\"\n",
    "    create virtual table search_table_activitydataset\n",
    "    using fts5(\n",
    "        id,\n",
    "        name,\n",
    "        product,\n",
    "        type,\n",
    "        tokenize=\"porter unicode61\");\n",
    "    )\n",
    "    \"\"\"\n",
    ")"
   ]
  },
  {
   "cell_type": "code",
   "execution_count": null,
   "metadata": {},
   "outputs": [],
   "source": [
    "# populate fts5 table with data\n",
    "cursor.execute(\n",
    "    \"\"\"\n",
    "    INSERT INTO search_table_activitydataset (id, name, product, type) \n",
    "    SELECT id, name, product, type FROM activitydataset\n",
    "    \"\"\"\n",
    ")"
   ]
  },
  {
   "cell_type": "code",
   "execution_count": null,
   "metadata": {},
   "outputs": [],
   "source": [
    "# check if any data made it into the fts5 table\n",
    "count = cursor.execute(f\"SELECT COUNT(*) FROM search_table_activitydataset\").fetchone()[0]\n",
    "count"
   ]
  },
  {
   "cell_type": "code",
   "execution_count": null,
   "metadata": {},
   "outputs": [],
   "source": [
    "# run a search query against the fts5 table\n",
    "res = cur.execute(\n",
    "    \"\"\"\n",
    "    select *, rank\n",
    "    from search_table_activitydataset\n",
    "    where name MATCH \"car\"\n",
    "    ORDER BY rank\n",
    "    limit 3\n",
    "    \"\"\"\n",
    ").fetchall()\n",
    "res"
   ]
  }
 ],
 "metadata": {
  "kernelspec": {
   "display_name": "Python [conda env:bw25]",
   "language": "python",
   "name": "conda-env-bw25-py"
  }
 },
 "nbformat": 4,
 "nbformat_minor": 2
}
